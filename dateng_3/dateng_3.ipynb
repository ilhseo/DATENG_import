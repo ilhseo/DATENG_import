{
 "cells": [
  {
   "cell_type": "markdown",
   "metadata": {},
   "source": [
    "# Oppgave 1\n",
    "## Hvor mange oppføringer er det totalt?"
   ]
  },
  {
   "cell_type": "code",
   "execution_count": 2,
   "metadata": {},
   "outputs": [],
   "source": [
    "import pandas as pd\n",
    "filename = \"O1-UserAgents.csv\""
   ]
  },
  {
   "cell_type": "code",
   "execution_count": 3,
   "metadata": {},
   "outputs": [
    {
     "name": "stdout",
     "output_type": "stream",
     "text": [
      "Datasettet inneholder 5345 oppføringer\n"
     ]
    }
   ],
   "source": [
    "df = pd.read_csv(filename, delimiter=\",\")\n",
    "print(\"Datasettet inneholder {nrows} oppføringer\".format(nrows = len(df.index)))"
   ]
  },
  {
   "cell_type": "markdown",
   "metadata": {},
   "source": [
    "# Oppgave 2\n",
    "## Datasettet inneholder syntaksfeil, hvilke linjer?\n",
    "\n",
    "Jeg er litt usikker på hva som menes med syntaksfeil i denne oppgaven. <br>\n",
    "For det første, lese inn hver linje og splitte datafeltene med komma som separator fungerer dårlig, siden feltet \"http.http_user_agent\" er en string som kan inneholde komma.\n",
    "<br>\n",
    "Dette er ikke noe problem; `pandas.read_csv()` ser ut til å jobbe rundt dette problemet ganske enkelt.\n",
    "<br><br>\n",
    "Jeg regulære uttrykk for å sjekke om alle radene er i formatet \"string\",\"string\",\"string\",\"string\" <br>\n",
    "Jeg lar vær å sjekke om siste feltet er omgitt i \"\", da det ser ut som alle oppføringene har det siste feltet uten \"\"."
   ]
  },
  {
   "cell_type": "code",
   "execution_count": 4,
   "metadata": {},
   "outputs": [
    {
     "name": "stdout",
     "output_type": "stream",
     "text": [
      "Det er totalt 2 linjer som har syntaksfeil\n",
      "Indeksene til disse linjene er [756, 4333]\n",
      "Nedenfor kan dere lese linjene med syntaksfeil:\n",
      "(756, '\"2021-03-04T17:35:31.405+0100\",Mozilla/4.0 (compatible; ms-office; MSOffice 16)\",\"HTTP/1.1\",GET\\n')\n",
      "(4333, '\"2021-03-04T17:35:02.789+0100Mozilla/4.0 (compatible; ms-office; MSOffice 16)\",\"HTTP/1.1\",GET\\n')\n"
     ]
    }
   ],
   "source": [
    "import re\n",
    "\n",
    "data_format = re.compile(r'^\"([^\"]*)\",\"([^\"]*)\",\"([^\"]*)\",([^\"]+)$')\n",
    "\n",
    "with open(filename, 'r') as file:\n",
    "    lines = file.readlines()\n",
    "error_indices= []\n",
    "error_lines = []\n",
    "\n",
    "for i, line in enumerate(lines[1:], start=1):\n",
    "    match = data_format.match(line)\n",
    "    if not match:\n",
    "        error_indices.append(i)\n",
    "        error_lines.append(line)\n",
    "\n",
    "print(\"Det er totalt {n_errors} linjer som har syntaksfeil\".format(n_errors = len(error_indices)))\n",
    "print(\"Indeksene til disse linjene er {inds}\".format(inds = error_indices))\n",
    "print(\"Nedenfor kan dere lese linjene med syntaksfeil:\")\n",
    "for line in zip(error_indices, error_lines):\n",
    "    print(line)"
   ]
  },
  {
   "cell_type": "markdown",
   "metadata": {},
   "source": [
    "Oppføring 756 mangler \" i starten av feltet http.http_user_agent <br>\n",
    "Oppføring 4333 mangler komma som separerer \"_time\" og \"http.http_user_agent\" <br>\n",
    "\n",
    "Retter feilen i innlest dataframe manuelt. Denne metoden er selvsagt ikke skalerbart."
   ]
  },
  {
   "cell_type": "code",
   "execution_count": 5,
   "metadata": {},
   "outputs": [],
   "source": [
    "df.loc[755, \"http.http_user_agent\"]= \"Mozilla/4.0 (compatible; ms-office; MSOffice 16)\"\n",
    "df.loc[4332]= ['2021-03-04T17:35:02.789+0100','Mozilla/4.0 (compatible; ms-office; MSOffice 16)','HTTP/1.1','GET']"
   ]
  },
  {
   "cell_type": "markdown",
   "metadata": {},
   "source": [
    "# Oppgave 3\n",
    "Hvor mange unike User-Agents eksisterer i datasettet?"
   ]
  },
  {
   "cell_type": "code",
   "execution_count": 6,
   "metadata": {},
   "outputs": [
    {
     "name": "stdout",
     "output_type": "stream",
     "text": [
      "Det er totalt 31 unike user-agents i datasettet\n"
     ]
    }
   ],
   "source": [
    "n_unq_useragents = df['http.http_user_agent'].nunique()\n",
    "print(\"Det er totalt {n_unq_useragents} unike user-agents i datasettet\".format(n_unq_useragents = n_unq_useragents))\n"
   ]
  },
  {
   "cell_type": "markdown",
   "metadata": {},
   "source": [
    "# Oppgave 4\n",
    "## Hvor mange unike User-Agents har en forekomst som er større enn den gjennomsnittlige forekomsten?"
   ]
  },
  {
   "cell_type": "code",
   "execution_count": 7,
   "metadata": {},
   "outputs": [
    {
     "name": "stdout",
     "output_type": "stream",
     "text": [
      "Gjennomsnittlig forekomst av unik user-agent er 172.41935483870967\n",
      "Følgende user_agents har forekomst større enn gjennomsnittlig:\n"
     ]
    },
    {
     "data": {
      "text/plain": [
       "http.http_user_agent\n",
       "Mozilla/4.0 (compatible; ms-office; MSOffice 16)                                                                                             2173\n",
       "Mozilla/5.0 (Windows NT 10.0; Win64; x64) AppleWebKit/537.36 (KHTML, like Gecko) Chrome/88.0.4324.190 Safari/537.36                           799\n",
       "Mozilla/5.0 (X11; Linux armv7l) AppleWebKit/537.36 (KHTML, like Gecko) Chrome/83.0.4103.97 Safari/537.36 CrKey/1.49.230269                    581\n",
       "Mozilla/5.0 (iPhone; CPU iPhone OS 14_4 like Mac OS X) AppleWebKit/605.1.15 (KHTML, like Gecko) Version/14.0.3 Mobile/15E148 Safari/604.1     237\n",
       "Mozilla/5.0 (X11; Linux aarch64) AppleWebKit/537.36 (KHTML, like Gecko) Chrome/84.0.4147.125 Safari/537.36 CrKey/1.50.230474                  232\n",
       "Mozilla/5.0 (Windows NT 6.1; WOW64; rv:48.0) Gecko/20100101 Firefox/48.0                                                                      230\n",
       "Name: count, dtype: int64"
      ]
     },
     "execution_count": 7,
     "metadata": {},
     "output_type": "execute_result"
    }
   ],
   "source": [
    "import numpy as np\n",
    "agent_counts = df['http.http_user_agent'].value_counts()\n",
    "avg_count = np.average(agent_counts.values)\n",
    "agents_above_avg = agent_counts.loc[agent_counts.values > avg_count]\n",
    "\n",
    "\n",
    "print(\"Gjennomsnittlig forekomst av unik user-agent er {avg}\".format(avg = avg_count))\n",
    "print(\"Følgende user_agents har forekomst større enn gjennomsnittlig:\")\n",
    "#for agent_name in agents_above_avg.index: print(agent_name)\n",
    "agents_above_avg"
   ]
  }
 ],
 "metadata": {
  "kernelspec": {
   "display_name": "Python 3",
   "language": "python",
   "name": "python3"
  },
  "language_info": {
   "codemirror_mode": {
    "name": "ipython",
    "version": 3
   },
   "file_extension": ".py",
   "mimetype": "text/x-python",
   "name": "python",
   "nbconvert_exporter": "python",
   "pygments_lexer": "ipython3",
   "version": "3.10.12"
  }
 },
 "nbformat": 4,
 "nbformat_minor": 2
}
