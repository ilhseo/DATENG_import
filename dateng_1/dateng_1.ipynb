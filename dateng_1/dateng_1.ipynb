{
 "cells": [
  {
   "cell_type": "code",
   "execution_count": 65,
   "metadata": {},
   "outputs": [],
   "source": [
    "import pandas as pd\n",
    "import matplotlib.pyplot as plt\n",
    "import numpy as np"
   ]
  },
  {
   "cell_type": "markdown",
   "metadata": {},
   "source": [
    "# Oppgave 1\n",
    "## Hvor mange unike IP-adresser?"
   ]
  },
  {
   "cell_type": "code",
   "execution_count": 66,
   "metadata": {},
   "outputs": [],
   "source": [
    "df = pd.read_csv(\"O1-Flow.csv\", delimiter=\";\")"
   ]
  },
  {
   "cell_type": "markdown",
   "metadata": {},
   "source": [
    "SOURCE og DEST inneholder IP-adresse med portnummer. Vi er kun interessert i IP-adresser.\n",
    "Ekstraherer kun IP-adressene til nye kolonner, og deretter teller unike verdier"
   ]
  },
  {
   "cell_type": "code",
   "execution_count": 67,
   "metadata": {},
   "outputs": [
    {
     "data": {
      "text/plain": [
       "SRC_IP     4\n",
       "DST_IP    54\n",
       "dtype: int64"
      ]
     },
     "execution_count": 67,
     "metadata": {},
     "output_type": "execute_result"
    }
   ],
   "source": [
    "src_ips = df['SOURCE'].str.split(\":\").str[0].rename(\"SRC_IP\")\n",
    "dst_ips = df['DEST'].str.split(\":\").str[0].rename(\"DST_IP\")\n",
    "src_ports = df['SOURCE'].str.split(\":\").str[1].rename(\"SRC_PORT\")\n",
    "dst_ports = df['DEST'].str.split(\":\").str[1].rename(\"DST_PORT\")\n",
    "\n",
    "src_dst = pd.concat([src_ips, dst_ips], axis = 1)\n",
    "n_unq_ips = src_dst[[\"SRC_IP\", \"DST_IP\"]].nunique()\n",
    "n_unq_ips"
   ]
  },
  {
   "cell_type": "markdown",
   "metadata": {},
   "source": [
    "# Oppgave 2\n",
    "## Hva er den total datamengde per IP, per retning?"
   ]
  },
  {
   "cell_type": "markdown",
   "metadata": {},
   "source": [
    "Før jeg summerer datamengdene, tilføyer jeg de nyopprettede kolonnene fra forrige oppgave i nåværende dataframe.\n",
    "Dette gir dataframe-en noe redundant info, men nå kan vi gruppere kun med IP"
   ]
  },
  {
   "cell_type": "code",
   "execution_count": 68,
   "metadata": {},
   "outputs": [],
   "source": [
    "new_df = pd.concat([df, src_ips, src_ports, dst_ips, dst_ports], axis=1)\n",
    "total_data = new_df.groupby([\"SRC_IP\", \"DST_IP\"])['BYTES'].sum()\n"
   ]
  },
  {
   "cell_type": "code",
   "execution_count": 69,
   "metadata": {},
   "outputs": [
    {
     "data": {
      "text/plain": [
       "SRC_IP        DST_IP       \n",
       "10.23.35.133  8.8.8.8            5305\n",
       "10.23.35.60   8.8.8.8             980\n",
       "10.23.35.61   8.8.8.8           74604\n",
       "8.8.8.8       10.13.232.147      2546\n",
       "              10.13.232.190       742\n",
       "              10.13.232.218      2974\n",
       "              10.13.232.33        164\n",
       "              10.13.232.42        255\n",
       "              10.13.232.45       3007\n",
       "              10.13.232.50       1405\n",
       "              10.13.232.57       3270\n",
       "              10.13.232.83       1662\n",
       "              10.13.232.88        462\n",
       "              10.13.232.89        877\n",
       "              10.13.232.90        371\n",
       "              10.13.232.91        164\n",
       "              10.13.232.97         92\n",
       "              10.23.35.133       8920\n",
       "              10.23.35.60        2287\n",
       "              10.23.35.61      220827\n",
       "              10.41.164.54         92\n",
       "              10.41.165.1        4903\n",
       "              10.41.255.1         492\n",
       "              10.41.255.14        208\n",
       "              10.41.255.17        174\n",
       "              10.41.255.2         354\n",
       "              10.41.255.21        164\n",
       "              10.41.255.24        179\n",
       "              10.41.255.25      11922\n",
       "              10.41.255.4         255\n",
       "              10.41.255.5         344\n",
       "              10.41.255.87       1492\n",
       "              10.41.66.11       12472\n",
       "              10.41.66.13          77\n",
       "              10.41.66.22        1447\n",
       "              10.41.66.46        3147\n",
       "              10.41.84.242       1256\n",
       "              10.41.84.98         690\n",
       "              10.41.85.114        943\n",
       "              10.41.85.165       4486\n",
       "              10.41.85.166         92\n",
       "              10.41.85.174         98\n",
       "              10.41.85.183       2382\n",
       "              10.41.85.54       14457\n",
       "              10.41.85.88         477\n",
       "              10.41.86.196        508\n",
       "              10.41.86.203       7875\n",
       "              10.41.86.244       3245\n",
       "              10.41.86.66       17433\n",
       "              10.41.93.66        9420\n",
       "              10.41.96.1          528\n",
       "              10.41.96.120        685\n",
       "              10.41.96.76         269\n",
       "              10.41.99.4           76\n",
       "              10.41.99.5          160\n",
       "              10.41.99.6           85\n",
       "Name: BYTES, dtype: int64"
      ]
     },
     "execution_count": 69,
     "metadata": {},
     "output_type": "execute_result"
    }
   ],
   "source": [
    "total_data"
   ]
  },
  {
   "cell_type": "markdown",
   "metadata": {},
   "source": [
    "# Oppgave 3\n",
    "## Hva er prosentfordelingen av protokollene?"
   ]
  },
  {
   "cell_type": "code",
   "execution_count": 70,
   "metadata": {},
   "outputs": [
    {
     "data": {
      "text/plain": [
       "PROTO\n",
       "udp     0.979\n",
       "tcp     0.020\n",
       "icmp    0.001\n",
       "Name: proportion, dtype: float64"
      ]
     },
     "execution_count": 70,
     "metadata": {},
     "output_type": "execute_result"
    }
   ],
   "source": [
    "n_uniq_protocols = new_df['PROTO'].value_counts(normalize=\"True\")\n",
    "n_uniq_protocols"
   ]
  },
  {
   "cell_type": "markdown",
   "metadata": {},
   "source": [
    "# Oppgave 4\n",
    "## Hva er prosentfordelingen blant portene?\n",
    "### (Alle porter større enn 1024 kan omtales som <i>high ports</i>)"
   ]
  },
  {
   "cell_type": "markdown",
   "metadata": {},
   "source": [
    "Oppdaget at det er noen av verdiene i de opprinnelige SOURCE og DEST kolonnene ikke er oppført med portnummer. I slike tilfeller vil det oppstå NaN."
   ]
  },
  {
   "cell_type": "code",
   "execution_count": 121,
   "metadata": {},
   "outputs": [
    {
     "name": "stderr",
     "output_type": "stream",
     "text": [
      "/tmp/ipykernel_47921/2344748536.py:3: FutureWarning: Setting an item of incompatible dtype is deprecated and will raise an error in a future version of pandas. Value 'high port' has dtype incompatible with int64, please explicitly cast to a compatible dtype first.\n",
      "  all_ports[all_ports > 1024] = \"high port\"\n"
     ]
    },
    {
     "data": {
      "text/plain": [
       "PORTS\n",
       "high port    0.499\n",
       "53           0.498\n",
       "853          0.002\n",
       "1024         0.001\n",
       "Name: proportion, dtype: float64"
      ]
     },
     "execution_count": 121,
     "metadata": {},
     "output_type": "execute_result"
    }
   ],
   "source": [
    "all_ports = pd.concat([new_df[\"SRC_PORT\"], new_df[\"DST_PORT\"]]).reset_index(drop=True).rename(\"PORTS\")\n",
    "all_ports = all_ports[all_ports.notna()].astype(int)\n",
    "all_ports[all_ports > 1024] = \"high port\"\n",
    "all_ports.value_counts(normalize=\"True\").round(3)\n"
   ]
  }
 ],
 "metadata": {
  "kernelspec": {
   "display_name": "Python 3",
   "language": "python",
   "name": "python3"
  },
  "language_info": {
   "codemirror_mode": {
    "name": "ipython",
    "version": 3
   },
   "file_extension": ".py",
   "mimetype": "text/x-python",
   "name": "python",
   "nbconvert_exporter": "python",
   "pygments_lexer": "ipython3",
   "version": "3.10.12"
  }
 },
 "nbformat": 4,
 "nbformat_minor": 2
}
