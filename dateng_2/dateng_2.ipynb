{
 "cells": [
  {
   "cell_type": "code",
   "execution_count": 1,
   "metadata": {},
   "outputs": [],
   "source": [
    "import re\n",
    "import json"
   ]
  },
  {
   "cell_type": "code",
   "execution_count": 2,
   "metadata": {},
   "outputs": [],
   "source": [
    "with open(\"unstructured.txt\", 'r') as file:\n",
    "    lines = file.readlines()\n",
    "\n",
    "source_list = [\n",
    "    \"Unit42\",\n",
    "    \"Fireeye\"\n",
    "]\n",
    "\n",
    "source_list = [source.lower() for source in source_list]"
   ]
  },
  {
   "cell_type": "code",
   "execution_count": 5,
   "metadata": {},
   "outputs": [],
   "source": [
    "def check_new_entry(list_of_sources, line):\n",
    "    first_substr = line.split(':')[0]\n",
    "\n",
    "    is_new_entry = first_substr.lower() in list_of_sources\n",
    "\n",
    "    return is_new_entry\n",
    "\n",
    "def collect_ioc(entry_text):\n",
    "    substr_format = r'\\([^\\(:\\)]+: [^\\(:\\)]*(?:\\([^\\(:\\)]*\\)[^\\(:\\)]*)*\\)'\n",
    "    matches = re.findall(substr_format, entry_text)\n",
    "    return matches\n",
    "\n",
    "def parse_data(list_of_sources, lines):\n",
    "    entries = []\n",
    "    entry_text = lines[0]\n",
    "    for line in lines[1:]:\n",
    "        if check_new_entry(list_of_sources, line):\n",
    "            entries.append(entry_text)\n",
    "            entry_text = line\n",
    "            source = line.split(':')[0]\n",
    "        else:\n",
    "            entry_text = entry_text + line\n",
    "    entries.append(entry_text)\n",
    "\n",
    "    return entries\n",
    "\n",
    "def entry_to_dict(entry):\n",
    "    substr_format = r'([^:]+):([^\\s]+) - ([.\\S\\s]+)'\n",
    "    match = re.search(substr_format, entry)\n",
    "    if match:\n",
    "        source = match.group(1).strip()\n",
    "        name = match.group(2).strip()\n",
    "        text = match.group(3).strip()\n",
    "        list_ioc_dicts = []\n",
    "        iocs = collect_ioc(text)\n",
    "        \n",
    "        for ioc in iocs:\n",
    "            ioc_no_semicolon = ioc.replace(';', ':')\n",
    "            ioc_elements = ioc_no_semicolon[1:-1].split(':')\n",
    "            ioc_type = ioc_elements[0]\n",
    "            ioc_value = ioc_elements[1][1:]\n",
    "            list_ioc_dicts.append(\n",
    "                {\n",
    "                    'ioc_type':ioc_type,\n",
    "                    'ioc_value':ioc_value\n",
    "                }\n",
    "            )\n",
    "\n",
    "    entry_dict = {\n",
    "        'name':name,\n",
    "        'source':source,\n",
    "        'ioc':list_ioc_dicts,\n",
    "        'text':text\n",
    "    }\n",
    "\n",
    "    return entry_dict\n",
    "\n",
    "\n",
    "parsed_data = parse_data(source_list, lines)\n",
    "data_dicts = []\n",
    "for data in parsed_data:\n",
    "    data_dicts.append(entry_to_dict(data))\n",
    "\n",
    "for data_dict in data_dicts:\n",
    "    source = data_dict['source']\n",
    "    name = data_dict['name']\n",
    "    output_fname = source + ', ' + name\n",
    "    with open(output_fname, 'w') as outfile:\n",
    "        json.dump(data_dict, outfile)\n"
   ]
  },
  {
   "cell_type": "code",
   "execution_count": 9,
   "metadata": {},
   "outputs": [
    {
     "data": {
      "text/plain": [
       "{'name': 'UNC1945',\n",
       " 'source': 'Fireeye',\n",
       " 'ioc': [{'ioc_type': 'MD5',\n",
       "   'ioc_value': 'd5b9a1845152d8ad2b91af044ff16d0b (SLAPSTICK)'},\n",
       "  {'ioc_type': 'MD5', 'ioc_value': '6983f7001de10f4d19fc2d794c3eb534'},\n",
       "  {'ioc_type': 'IP', 'ioc_value': '46.30.189.0/24'},\n",
       "  {'ioc_type': 'IP', 'ioc_value': '66.172.12.0/24'}],\n",
       " 'text': 'PUPYRAT (aka Pupy) is an open source, multi-platform (Windows, Linux, OSX, Android), multi-function RAT (Remote Administration Tool) and post-exploitation tool mainly written in Python. It features an all-in-memory execution guideline and leaves very low footprint. It can communicate using various transports, migrate into processes (reflective injection), and load remote Python code, Python packages and Python C-extensions from memory.(MD5: d5b9a1845152d8ad2b91af044ff16d0b (SLAPSTICK)) (MD5; 0845835e18a3ed4057498250d30a11b1 (STEELCORGI)) (MD5: 6983f7001de10f4d19fc2d794c3eb534) (IP: 46.30.189.0/24) (IP: 66.172.12.0/24)'}"
      ]
     },
     "execution_count": 9,
     "metadata": {},
     "output_type": "execute_result"
    }
   ],
   "source": [
    "f = open('Fireeye, UNC1945')\n",
    "data = json.load(f)\n",
    "data"
   ]
  }
 ],
 "metadata": {
  "kernelspec": {
   "display_name": "Python 3",
   "language": "python",
   "name": "python3"
  },
  "language_info": {
   "codemirror_mode": {
    "name": "ipython",
    "version": 3
   },
   "file_extension": ".py",
   "mimetype": "text/x-python",
   "name": "python",
   "nbconvert_exporter": "python",
   "pygments_lexer": "ipython3",
   "version": "3.10.12"
  }
 },
 "nbformat": 4,
 "nbformat_minor": 2
}
