{
 "cells": [
  {
   "cell_type": "markdown",
   "metadata": {},
   "source": [
    "# Data Structure\n",
    "An *entry* is a block of text (including whitespaces such as line breaks) belonging to the description of the malware.\n",
    "<br>Following format is given to the entry:\n",
    "<br>Source:Name - SomeText (IoCType_1: IoCValue_1) MoreText (IoCType_2: IoCValue_2) EvenMoreText ... (IoCType_n: IoCValue_n) ...\n",
    "\n",
    "\n",
    "# Order of operations\n",
    "1. A single manual input is required from the operator. The input is list of known sources that distribute the IoC messages.\n",
    "<br>The list of sources is used to check whether a line of text is beginning of a new entry, as observation shows that an entry always starts with the source.\n",
    "\n",
    "2. A texf file of unstructured data is read line by line. \n",
    "<br>The text file is a direct copy-paste of entire text block presented under *\\[DATENG\\] #2 Ustrukturert data* @https://memes.agency/o21/\n",
    "\n",
    "3. `parse_data()` runs through through the list of lines of text, and separates the entries within the text file. \n",
    "<br>Each entry is placed in a list. The function returns a list of entries.\n",
    "\n",
    "4. After separating entries and placing them in a list of entires, `entry_to_dict()` structures each entry text into a dict. \n",
    "<br>Using a regular expression, it groups substrings of an entry into `Source`, `Name` and `Text`\n",
    "<br>`Text` is passed to the function `collect_ioc()`. This function uses another regular expression to find all the parenthesis containing `IoC` and `IoCValue`\n",
    "<br>`collect_ioc()` returns list of dicts structured as following:\n",
    "```\n",
    "[\n",
    "    {'ioc_type':\"name_of_type_1\", 'ioc_value':\"value_of_ioc_1\"},\n",
    "    {'ioc_type':\"name_of_type_2\", 'ioc_value':\"value_of_ioc_2\"},\n",
    "    {'ioc_type':\"name_of_type_m\", 'ioc_value':\"value_of_ioc_m\"},\n",
    "]\n",
    "```\n",
    "\n",
    "5. Final structure of the dictionary structuring an entry looks like this:\n",
    "```\n",
    "{\n",
    "    'name':\"name_of_malware\"\n",
    "    'source':\"source_of_info\"\n",
    "    'ioc':[\n",
    "            {'ioc_type':\"name_of_type_1\", 'ioc_value':\"value_of_ioc_1\"},\n",
    "            {'ioc_type':\"name_of_type_2\", 'ioc_value':\"value_of_ioc_2\"},\n",
    "            {'ioc_type':\"name_of_type_m\", 'ioc_value':\"value_of_ioc_m\"},\n",
    "        ]\n",
    "    'text':\"info_text_about_malware\"\n",
    "}\n",
    "```\n",
    "<br> The dictionary of each entry is saved with filename: Source, Name"
   ]
  },
  {
   "cell_type": "code",
   "execution_count": 7,
   "metadata": {},
   "outputs": [],
   "source": [
    "import re\n",
    "import json\n",
    "import os\n"
   ]
  },
  {
   "cell_type": "code",
   "execution_count": 2,
   "metadata": {},
   "outputs": [],
   "source": [
    "# Step 1 in the order of operation. The list is hardcoded, but can/should be given in another form.\n",
    "source_list = [\n",
    "    \"Unit42\",\n",
    "    \"Fireeye\"\n",
    "]\n",
    "\n",
    "source_list = [source.lower() for source in source_list]\n",
    "\n",
    "# Step 2 in the order of operation\n",
    "with open(\"unstructured.txt\", 'r') as file:\n",
    "    lines = file.readlines()\n"
   ]
  },
  {
   "cell_type": "code",
   "execution_count": 3,
   "metadata": {},
   "outputs": [],
   "source": [
    "def check_new_entry(list_of_sources, line):\n",
    "    first_substr = line.split(':')[0]\n",
    "\n",
    "    is_new_entry = first_substr.lower() in list_of_sources\n",
    "\n",
    "    return is_new_entry\n",
    "\n",
    "def collect_ioc(entry_text):\n",
    "    substr_format = r'\\([^\\(:\\)]+: [^\\(:\\)]*(?:\\([^\\(:\\)]*\\)[^\\(:\\)]*)*\\)'\n",
    "    matches = re.findall(substr_format, entry_text)\n",
    "    return matches\n",
    "\n",
    "\n",
    "def parse_data(list_of_sources, lines):\n",
    "    entries = []\n",
    "    entry_text = lines[0]\n",
    "    for line in lines[1:]:\n",
    "        if check_new_entry(list_of_sources, line):\n",
    "            entries.append(entry_text)\n",
    "            entry_text = line\n",
    "            source = line.split(':')[0]\n",
    "        else:\n",
    "            entry_text = entry_text + line\n",
    "    entries.append(entry_text)\n",
    "\n",
    "    return entries\n",
    "\n",
    "def entry_to_dict(entry):\n",
    "    substr_format = r'([^:]+):([^\\s]+) - ([.\\S\\s]+)'\n",
    "    match = re.search(substr_format, entry)\n",
    "    if match:\n",
    "        source = match.group(1).strip()\n",
    "        name = match.group(2).strip()\n",
    "        text = match.group(3).strip()\n",
    "        list_ioc_dicts = []\n",
    "        iocs = collect_ioc(text)\n",
    "        \n",
    "        for ioc in iocs:\n",
    "            ioc_no_semicolon = ioc.replace(';', ':')\n",
    "            ioc_elements = ioc_no_semicolon[1:-1].split(':')\n",
    "            ioc_type = ioc_elements[0]\n",
    "            ioc_value = ioc_elements[1][1:]\n",
    "            list_ioc_dicts.append(\n",
    "                {\n",
    "                    'ioc_type':ioc_type,\n",
    "                    'ioc_value':ioc_value\n",
    "                }\n",
    "            )\n",
    "\n",
    "    entry_dict = {\n",
    "        'name':name,\n",
    "        'source':source,\n",
    "        'ioc':list_ioc_dicts,\n",
    "        'text':text\n",
    "    }\n",
    "\n",
    "    return entry_dict\n",
    "\n",
    "\n"
   ]
  },
  {
   "cell_type": "code",
   "execution_count": 8,
   "metadata": {},
   "outputs": [],
   "source": [
    "# Step 3 in order of operation\n",
    "parsed_data = parse_data(source_list, lines)\n",
    "\n",
    "#Step 4 in Order of operation\n",
    "data_dicts = []\n",
    "for data in parsed_data:\n",
    "    data_dicts.append(entry_to_dict(data))\n",
    "\n",
    "#Step 5 in Order of operation\n",
    "if not os.path.exists('./outputs'):\n",
    "    os.makedirs('./outputs')\n",
    "for data_dict in data_dicts:\n",
    "    source = data_dict['source']\n",
    "    name = data_dict['name']\n",
    "    output_fname = source + ', ' + name + '.json'\n",
    "    with open('./outputs/'+output_fname, 'w') as outfile:\n",
    "        json.dump(data_dict, outfile)"
   ]
  },
  {
   "cell_type": "code",
   "execution_count": 5,
   "metadata": {},
   "outputs": [
    {
     "data": {
      "text/plain": [
       "{'name': 'UNC1945',\n",
       " 'source': 'Fireeye',\n",
       " 'ioc': [{'ioc_type': 'MD5',\n",
       "   'ioc_value': 'd5b9a1845152d8ad2b91af044ff16d0b (SLAPSTICK)'},\n",
       "  {'ioc_type': 'MD5',\n",
       "   'ioc_value': '0845835e18a3ed4057498250d30a11b1 (STEELCORGI)'},\n",
       "  {'ioc_type': 'MD5', 'ioc_value': '6983f7001de10f4d19fc2d794c3eb534'},\n",
       "  {'ioc_type': 'IP', 'ioc_value': '46.30.189.0/24'},\n",
       "  {'ioc_type': 'IP', 'ioc_value': '66.172.12.0/24'}],\n",
       " 'text': 'PUPYRAT (aka Pupy) is an open source, multi-platform (Windows, Linux, OSX, Android), multi-function RAT (Remote Administration Tool) and post-exploitation tool mainly written in Python. It features an all-in-memory execution guideline and leaves very low footprint. It can communicate using various transports, migrate into processes (reflective injection), and load remote Python code, Python packages and Python C-extensions from memory.(MD5: d5b9a1845152d8ad2b91af044ff16d0b (SLAPSTICK)) (MD5; 0845835e18a3ed4057498250d30a11b1 (STEELCORGI)) (MD5: 6983f7001de10f4d19fc2d794c3eb534) (IP: 46.30.189.0/24) (IP: 66.172.12.0/24)'}"
      ]
     },
     "execution_count": 5,
     "metadata": {},
     "output_type": "execute_result"
    }
   ],
   "source": [
    "f = open('Fireeye, UNC1945')\n",
    "data = json.load(f)\n",
    "data"
   ]
  }
 ],
 "metadata": {
  "kernelspec": {
   "display_name": "Python 3",
   "language": "python",
   "name": "python3"
  },
  "language_info": {
   "codemirror_mode": {
    "name": "ipython",
    "version": 3
   },
   "file_extension": ".py",
   "mimetype": "text/x-python",
   "name": "python",
   "nbconvert_exporter": "python",
   "pygments_lexer": "ipython3",
   "version": "3.10.12"
  }
 },
 "nbformat": 4,
 "nbformat_minor": 2
}
