{
 "cells": [
  {
   "cell_type": "code",
   "execution_count": 1,
   "metadata": {},
   "outputs": [],
   "source": [
    "import spacy\n",
    "import json"
   ]
  },
  {
   "cell_type": "code",
   "execution_count": 4,
   "metadata": {},
   "outputs": [],
   "source": [
    "with open(\"unstructured.txt\", 'r') as file:\n",
    "    lines = file.readlines()\n",
    "\n",
    "source_list = [\n",
    "    \"Unit42\",\n",
    "    \"Fireeye\"\n",
    "]\n",
    "\n",
    "source_list = [source.lower() for source in source_list]"
   ]
  },
  {
   "cell_type": "code",
   "execution_count": 7,
   "metadata": {},
   "outputs": [],
   "source": [
    "def check_new_entry(list_of_sources, line):\n",
    "    first_substr = line.split(':')[0]\n",
    "\n",
    "    is_new_entry = first_substr.lower() in list_of_sources\n",
    "\n",
    "    return is_new_entry\n",
    "\n",
    "def collect_ioc(entry_text):\n",
    "    substr_format = r'\\([^\\(:\\)]+: [^\\(:\\)]*(?:\\([^\\(:\\)]*\\)[^\\(:\\)]*)*\\)'\n",
    "    matches = re.findall(substr_format, entry_text)\n",
    "    return matches\n",
    "\n",
    "def collect_ioc(list_of_sources, lines):\n",
    "    entries = []\n",
    "    entry_text = lines[0]\n",
    "    for line in lines[1:]:\n",
    "        if check_new_entry(list_of_sources, line):\n",
    "            entries.append(entry_text)\n",
    "            entry_text = line\n",
    "            source = line.split(':')[0]\n",
    "        else:\n",
    "            entry_text = entry_text + line\n",
    "    entries.append(entry_text)\n",
    "\n",
    "    return entries\n",
    "\n",
    "def entry_to_dict(entry):\n",
    "    substr_format = r'([^:]+):([^\\s]+) - ([.\\S\\s]+)'\n",
    "    match = re.search(substr_format, entry)\n",
    "    if match:\n",
    "        source = match.group(1).strip()\n",
    "        name = match.group(2).strip()\n",
    "        text = match.group(3).strip()\n",
    "        list_ioc_dicts = []\n",
    "        iocs = collect_ioc(text)\n",
    "        \n",
    "        for ioc in iocs:\n",
    "            ioc_no_semicolon = ioc.replace(';', ':')\n",
    "            ioc_elements = ioc_no_semicolon[1:-1].split(':')\n",
    "            ioc_type = ioc_elements[0]\n",
    "            ioc_value = ioc_elements[1][1:]\n",
    "            list_ioc_dicts.append(\n",
    "                {\n",
    "                    'ioc_type':ioc_type,\n",
    "                    'ioc_value':ioc_value\n",
    "                }\n",
    "            )\n",
    "\n",
    "    entry_dict = {\n",
    "        'name':name,\n",
    "        'source':source,\n",
    "        'ioc':list_ioc_dicts,\n",
    "        'text':text\n",
    "    }\n",
    "\n",
    "    return entry_dict\n",
    "\n",
    "data_dicts = []\n",
    "for data in parsed_data:\n",
    "    data_dicts.append(entry_to_dict(data))\n",
    "\n",
    "for data_dict in data_dicts:\n",
    "    source = data_dict['source']\n",
    "    name = data_dict['name']\n",
    "    output_fnmae = source + ', ' + name\n",
    "    with open(output_fname, 'w') as outfile:\n",
    "        json.dump(data_dict, outfile)\n"
   ]
  },
  {
   "cell_type": "code",
   "execution_count": null,
   "metadata": {},
   "outputs": [],
   "source": [
    "f = open('unit42, ironnetinjector')\n",
    "data = json.load(f)\n",
    "data"
   ]
  }
 ],
 "metadata": {
  "kernelspec": {
   "display_name": "Python 3",
   "language": "python",
   "name": "python3"
  },
  "language_info": {
   "codemirror_mode": {
    "name": "ipython",
    "version": 3
   },
   "file_extension": ".py",
   "mimetype": "text/x-python",
   "name": "python",
   "nbconvert_exporter": "python",
   "pygments_lexer": "ipython3",
   "version": "3.10.12"
  }
 },
 "nbformat": 4,
 "nbformat_minor": 2
}
